{
 "cells": [
  {
   "cell_type": "code",
   "execution_count": 1,
   "metadata": {},
   "outputs": [],
   "source": [
    "import torch as tc\n",
    "import matplotlib.pyplot as plt\n",
    "import numpy as np\n",
    "import pandas as pd\n"
   ]
  },
  {
   "cell_type": "code",
   "execution_count": 8,
   "metadata": {},
   "outputs": [],
   "source": [
    "def tensorize_data(file_path):\n",
    "    data = pd.read_csv(file_path)\n",
    "    # print(data.head())\n",
    "    # Convert the data to a numpy array\n",
    "    data = data.to_numpy()\n",
    "    voltage = data[:, 1]\n",
    "    time = data[:, 0]\n",
    "    print(\"Time: \", time)   \n",
    "    \n",
    "    # print(\"Voltage: \", voltage)"
   ]
  },
  {
   "cell_type": "code",
   "execution_count": 9,
   "metadata": {},
   "outputs": [
    {
     "name": "stdout",
     "output_type": "stream",
     "text": [
      "   Time - Voltage  Amplitude - Voltage\n",
      "0             0.0              1.85744\n",
      "1             0.1              1.85133\n",
      "2             0.2              1.85133\n",
      "3             0.3              1.85133\n",
      "4             0.4              1.85336\n",
      "Time:  [1.85744  1.85133  1.85133  ... 0.808574 0.808574 0.808574]\n"
     ]
    }
   ],
   "source": [
    "tensorize_data('../data/drain.csv')"
   ]
  },
  {
   "cell_type": "code",
   "execution_count": null,
   "metadata": {},
   "outputs": [],
   "source": []
  }
 ],
 "metadata": {
  "kernelspec": {
   "display_name": "Python 3",
   "language": "python",
   "name": "python3"
  },
  "language_info": {
   "codemirror_mode": {
    "name": "ipython",
    "version": 3
   },
   "file_extension": ".py",
   "mimetype": "text/x-python",
   "name": "python",
   "nbconvert_exporter": "python",
   "pygments_lexer": "ipython3",
   "version": "3.12.4"
  }
 },
 "nbformat": 4,
 "nbformat_minor": 2
}
